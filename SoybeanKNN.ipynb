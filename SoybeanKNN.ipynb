{
  "cells": [
    {
      "cell_type": "markdown",
      "metadata": {
        "id": "6b4XTXWJJCPk"
      },
      "source": [
        "# **Importing Libraries**"
      ]
    },
    {
      "cell_type": "code",
      "execution_count": null,
      "metadata": {
        "id": "ZSiOmi9LHdUf"
      },
      "outputs": [],
      "source": [
        "from sklearn.neighbors import KNeighborsClassifier\n",
        "from sklearn.model_selection import train_test_split\n",
        "from imutils import paths\n",
        "import numpy as np\n",
        "from sklearn.metrics import classification_report\n",
        "import imutils\n",
        "import cv2\n",
        "import os,zipfile\n",
        "from google.colab import files"
      ]
    },
    {
      "cell_type": "markdown",
      "metadata": {
        "id": "tnOH-tNQJOxI"
      },
      "source": [
        "# **Data Preparation**\n",
        "\n",
        "[SoyaBean Dataset from Kaggle](https://www.kaggle.com/datasets/kaustubhachaturvedi/soyabean-disease-dataset)"
      ]
    },
    {
      "cell_type": "code",
      "execution_count": null,
      "metadata": {
        "colab": {
          "base_uri": "https://localhost:8080/",
          "height": 282
        },
        "id": "5V0nb9ldJYwR",
        "outputId": "2d9c33e1-ac6e-4d87-9b35-053ca58f9975"
      },
      "outputs": [
        {
          "name": "stdout",
          "output_type": "stream",
          "text": [
            "Looking in indexes: https://pypi.org/simple, https://us-python.pkg.dev/colab-wheels/public/simple/\n",
            "Requirement already satisfied: kaggle in /usr/local/lib/python3.8/dist-packages (1.5.12)\n",
            "Requirement already satisfied: python-dateutil in /usr/local/lib/python3.8/dist-packages (from kaggle) (2.8.2)\n",
            "Requirement already satisfied: certifi in /usr/local/lib/python3.8/dist-packages (from kaggle) (2022.12.7)\n",
            "Requirement already satisfied: urllib3 in /usr/local/lib/python3.8/dist-packages (from kaggle) (1.24.3)\n",
            "Requirement already satisfied: tqdm in /usr/local/lib/python3.8/dist-packages (from kaggle) (4.64.1)\n",
            "Requirement already satisfied: six>=1.10 in /usr/local/lib/python3.8/dist-packages (from kaggle) (1.15.0)\n",
            "Requirement already satisfied: requests in /usr/local/lib/python3.8/dist-packages (from kaggle) (2.25.1)\n",
            "Requirement already satisfied: python-slugify in /usr/local/lib/python3.8/dist-packages (from kaggle) (7.0.0)\n",
            "Requirement already satisfied: text-unidecode>=1.3 in /usr/local/lib/python3.8/dist-packages (from python-slugify->kaggle) (1.3)\n",
            "Requirement already satisfied: chardet<5,>=3.0.2 in /usr/local/lib/python3.8/dist-packages (from requests->kaggle) (4.0.0)\n",
            "Requirement already satisfied: idna<3,>=2.5 in /usr/local/lib/python3.8/dist-packages (from requests->kaggle) (2.10)\n"
          ]
        },
        {
          "data": {
            "text/html": [
              "\n",
              "     <input type=\"file\" id=\"files-36801930-ad17-45d8-9449-70b44c2a37eb\" name=\"files[]\" multiple disabled\n",
              "        style=\"border:none\" />\n",
              "     <output id=\"result-36801930-ad17-45d8-9449-70b44c2a37eb\">\n",
              "      Upload widget is only available when the cell has been executed in the\n",
              "      current browser session. Please rerun this cell to enable.\n",
              "      </output>\n",
              "      <script>// Copyright 2017 Google LLC\n",
              "//\n",
              "// Licensed under the Apache License, Version 2.0 (the \"License\");\n",
              "// you may not use this file except in compliance with the License.\n",
              "// You may obtain a copy of the License at\n",
              "//\n",
              "//      http://www.apache.org/licenses/LICENSE-2.0\n",
              "//\n",
              "// Unless required by applicable law or agreed to in writing, software\n",
              "// distributed under the License is distributed on an \"AS IS\" BASIS,\n",
              "// WITHOUT WARRANTIES OR CONDITIONS OF ANY KIND, either express or implied.\n",
              "// See the License for the specific language governing permissions and\n",
              "// limitations under the License.\n",
              "\n",
              "/**\n",
              " * @fileoverview Helpers for google.colab Python module.\n",
              " */\n",
              "(function(scope) {\n",
              "function span(text, styleAttributes = {}) {\n",
              "  const element = document.createElement('span');\n",
              "  element.textContent = text;\n",
              "  for (const key of Object.keys(styleAttributes)) {\n",
              "    element.style[key] = styleAttributes[key];\n",
              "  }\n",
              "  return element;\n",
              "}\n",
              "\n",
              "// Max number of bytes which will be uploaded at a time.\n",
              "const MAX_PAYLOAD_SIZE = 100 * 1024;\n",
              "\n",
              "function _uploadFiles(inputId, outputId) {\n",
              "  const steps = uploadFilesStep(inputId, outputId);\n",
              "  const outputElement = document.getElementById(outputId);\n",
              "  // Cache steps on the outputElement to make it available for the next call\n",
              "  // to uploadFilesContinue from Python.\n",
              "  outputElement.steps = steps;\n",
              "\n",
              "  return _uploadFilesContinue(outputId);\n",
              "}\n",
              "\n",
              "// This is roughly an async generator (not supported in the browser yet),\n",
              "// where there are multiple asynchronous steps and the Python side is going\n",
              "// to poll for completion of each step.\n",
              "// This uses a Promise to block the python side on completion of each step,\n",
              "// then passes the result of the previous step as the input to the next step.\n",
              "function _uploadFilesContinue(outputId) {\n",
              "  const outputElement = document.getElementById(outputId);\n",
              "  const steps = outputElement.steps;\n",
              "\n",
              "  const next = steps.next(outputElement.lastPromiseValue);\n",
              "  return Promise.resolve(next.value.promise).then((value) => {\n",
              "    // Cache the last promise value to make it available to the next\n",
              "    // step of the generator.\n",
              "    outputElement.lastPromiseValue = value;\n",
              "    return next.value.response;\n",
              "  });\n",
              "}\n",
              "\n",
              "/**\n",
              " * Generator function which is called between each async step of the upload\n",
              " * process.\n",
              " * @param {string} inputId Element ID of the input file picker element.\n",
              " * @param {string} outputId Element ID of the output display.\n",
              " * @return {!Iterable<!Object>} Iterable of next steps.\n",
              " */\n",
              "function* uploadFilesStep(inputId, outputId) {\n",
              "  const inputElement = document.getElementById(inputId);\n",
              "  inputElement.disabled = false;\n",
              "\n",
              "  const outputElement = document.getElementById(outputId);\n",
              "  outputElement.innerHTML = '';\n",
              "\n",
              "  const pickedPromise = new Promise((resolve) => {\n",
              "    inputElement.addEventListener('change', (e) => {\n",
              "      resolve(e.target.files);\n",
              "    });\n",
              "  });\n",
              "\n",
              "  const cancel = document.createElement('button');\n",
              "  inputElement.parentElement.appendChild(cancel);\n",
              "  cancel.textContent = 'Cancel upload';\n",
              "  const cancelPromise = new Promise((resolve) => {\n",
              "    cancel.onclick = () => {\n",
              "      resolve(null);\n",
              "    };\n",
              "  });\n",
              "\n",
              "  // Wait for the user to pick the files.\n",
              "  const files = yield {\n",
              "    promise: Promise.race([pickedPromise, cancelPromise]),\n",
              "    response: {\n",
              "      action: 'starting',\n",
              "    }\n",
              "  };\n",
              "\n",
              "  cancel.remove();\n",
              "\n",
              "  // Disable the input element since further picks are not allowed.\n",
              "  inputElement.disabled = true;\n",
              "\n",
              "  if (!files) {\n",
              "    return {\n",
              "      response: {\n",
              "        action: 'complete',\n",
              "      }\n",
              "    };\n",
              "  }\n",
              "\n",
              "  for (const file of files) {\n",
              "    const li = document.createElement('li');\n",
              "    li.append(span(file.name, {fontWeight: 'bold'}));\n",
              "    li.append(span(\n",
              "        `(${file.type || 'n/a'}) - ${file.size} bytes, ` +\n",
              "        `last modified: ${\n",
              "            file.lastModifiedDate ? file.lastModifiedDate.toLocaleDateString() :\n",
              "                                    'n/a'} - `));\n",
              "    const percent = span('0% done');\n",
              "    li.appendChild(percent);\n",
              "\n",
              "    outputElement.appendChild(li);\n",
              "\n",
              "    const fileDataPromise = new Promise((resolve) => {\n",
              "      const reader = new FileReader();\n",
              "      reader.onload = (e) => {\n",
              "        resolve(e.target.result);\n",
              "      };\n",
              "      reader.readAsArrayBuffer(file);\n",
              "    });\n",
              "    // Wait for the data to be ready.\n",
              "    let fileData = yield {\n",
              "      promise: fileDataPromise,\n",
              "      response: {\n",
              "        action: 'continue',\n",
              "      }\n",
              "    };\n",
              "\n",
              "    // Use a chunked sending to avoid message size limits. See b/62115660.\n",
              "    let position = 0;\n",
              "    do {\n",
              "      const length = Math.min(fileData.byteLength - position, MAX_PAYLOAD_SIZE);\n",
              "      const chunk = new Uint8Array(fileData, position, length);\n",
              "      position += length;\n",
              "\n",
              "      const base64 = btoa(String.fromCharCode.apply(null, chunk));\n",
              "      yield {\n",
              "        response: {\n",
              "          action: 'append',\n",
              "          file: file.name,\n",
              "          data: base64,\n",
              "        },\n",
              "      };\n",
              "\n",
              "      let percentDone = fileData.byteLength === 0 ?\n",
              "          100 :\n",
              "          Math.round((position / fileData.byteLength) * 100);\n",
              "      percent.textContent = `${percentDone}% done`;\n",
              "\n",
              "    } while (position < fileData.byteLength);\n",
              "  }\n",
              "\n",
              "  // All done.\n",
              "  yield {\n",
              "    response: {\n",
              "      action: 'complete',\n",
              "    }\n",
              "  };\n",
              "}\n",
              "\n",
              "scope.google = scope.google || {};\n",
              "scope.google.colab = scope.google.colab || {};\n",
              "scope.google.colab._files = {\n",
              "  _uploadFiles,\n",
              "  _uploadFilesContinue,\n",
              "};\n",
              "})(self);\n",
              "</script> "
            ],
            "text/plain": [
              "<IPython.core.display.HTML object>"
            ]
          },
          "metadata": {},
          "output_type": "display_data"
        },
        {
          "name": "stdout",
          "output_type": "stream",
          "text": [
            "Saving kaggle.json to kaggle.json\n"
          ]
        }
      ],
      "source": [
        "#upload kaggle api key\n",
        "! pip install kaggle\n",
        "files.upload()\n",
        "! mkdir ~/.kaggle\n",
        "! cp kaggle.json ~/.kaggle/\n",
        "! chmod 600 ~/.kaggle/kaggle.json "
      ]
    },
    {
      "cell_type": "code",
      "execution_count": null,
      "metadata": {
        "colab": {
          "base_uri": "https://localhost:8080/"
        },
        "id": "CNtyomEmJc9a",
        "outputId": "2c32ea85-a11a-4a22-b45d-76ac482551d9"
      },
      "outputs": [
        {
          "name": "stdout",
          "output_type": "stream",
          "text": [
            "Downloading soyabean-disease-dataset.zip to /content\n",
            " 98% 249M/255M [00:04<00:00, 91.6MB/s]\n",
            "100% 255M/255M [00:04<00:00, 65.0MB/s]\n"
          ]
        }
      ],
      "source": [
        "# Create a helper function to unzip file(s)\n",
        "def unzip(zipfileNameList):\n",
        "  for file in zipfileNameList:\n",
        "    fileZip = str(file) + '.zip'\n",
        "    try:\n",
        "      zipRef = zipfile.ZipFile(fileZip, 'r')\n",
        "    except:\n",
        "      print(\"Something went wrong when read to the unzip file\")\n",
        "    zipRef.extractall('./' + file + '/')\n",
        "    zipRef.close()\n",
        "\n",
        "def downloadAndUnzipDataset(*datasetLink):\n",
        "  zipfileName = [] \n",
        "  for link in datasetLink:\n",
        "    slashSplit = str(link).split('/')\n",
        "    if slashSplit[-3] != 'datasets':\n",
        "      raise Exception('Link(s) format are not as expected')\n",
        "    if slashSplit[-3] == 'datasets':\n",
        "      datasetName = slashSplit[-2] + '/' + slashSplit[-1]\n",
        "      ! kaggle datasets download $datasetName\n",
        "    zipfileName.append(slashSplit[-1])\n",
        "  unzip(zipfileName)\n",
        "  \n",
        "downloadAndUnzipDataset('https://www.kaggle.com/datasets/kaustubhachaturvedi/soyabean-disease-dataset')"
      ]
    },
    {
      "cell_type": "markdown",
      "metadata": {
        "id": "Wn-bIZvvv0K2"
      },
      "source": [
        "# **Model V1**"
      ]
    },
    {
      "cell_type": "markdown",
      "metadata": {
        "id": "wynmcrQuuuzW"
      },
      "source": [
        "## **Image Freature Extraction and Resizing**"
      ]
    },
    {
      "cell_type": "code",
      "execution_count": null,
      "metadata": {
        "id": "8kwnFaYUJqCR"
      },
      "outputs": [],
      "source": [
        "def image_to_feature_vector(image, size=(150, 150)):\n",
        "\treturn cv2.resize(image, size, interpolation=cv2.INTER_AREA).flatten()\n",
        "def extract_color_histogram(image, bins=(8, 8, 8)):\n",
        "\thsv = cv2.cvtColor(image, cv2.COLOR_BGR2HSV)\n",
        "\thist = cv2.calcHist([hsv], [0, 1, 2], None, bins,\n",
        "\t\t[0, 180, 0, 256, 0, 256])\n",
        "\tif imutils.is_cv2():\n",
        "\t\thist = cv2.normalize(hist)\n",
        "\telse:\n",
        "\t\tcv2.normalize(hist, hist)\n",
        "\treturn hist.flatten()"
      ]
    },
    {
      "cell_type": "code",
      "execution_count": null,
      "metadata": {
        "colab": {
          "base_uri": "https://localhost:8080/"
        },
        "id": "QtUL_HgQdrn9",
        "outputId": "63b87d3b-c42a-4c51-ebc0-fa54f2734331"
      },
      "outputs": [
        {
          "name": "stdout",
          "output_type": "stream",
          "text": [
            "Total Images : 1654\n",
            "Total Features : 1654\n"
          ]
        }
      ],
      "source": [
        "classList = {'angular_leaf_spot':'Angular Leaf Spot', \n",
        "            'bacterial_blight':'Bacterial Blight',\n",
        "                  'bean_rust':'Bean Rust',\n",
        "                  'downy_mildew':'Downy Mildew',\n",
        "                  'healthy':'Healthy'}\n",
        "# defining classes of diseases in soyabean plant from soyabean-disease-dataset\n",
        "rawImages = []\n",
        "features = []\n",
        "labels = []\n",
        "for classDir,className in classList.items():\n",
        "  path=f'./soyabean-disease-dataset/train/train/{classDir}/'\n",
        "  for image in os.listdir(path):\n",
        "    image = cv2.imread(os.path.join(path, image),)\n",
        "    label = className\n",
        "    pixels = image_to_feature_vector(image)\n",
        "    hist = extract_color_histogram(image)\n",
        "    rawImages.append(pixels)\n",
        "    features.append(hist)\n",
        "    labels.append(label)\n",
        "for classDir,className in classList.items():\n",
        "  path=f'./soyabean-disease-dataset/validation/validation/{classDir}/'\n",
        "  for image in os.listdir(path):\n",
        "    image = cv2.imread(os.path.join(path, image),)\n",
        "    label = className\n",
        "    pixels = image_to_feature_vector(image)\n",
        "    hist = extract_color_histogram(image)\n",
        "    rawImages.append(pixels)\n",
        "    features.append(hist)\n",
        "    labels.append(label)\n",
        "for classDir,className in classList.items():\n",
        "  path=f'./soyabean-disease-dataset/test/test/{classDir}/'\n",
        "  for image in os.listdir(path):\n",
        "    image = cv2.imread(os.path.join(path, image),)\n",
        "    label = className\n",
        "    pixels = image_to_feature_vector(image)\n",
        "    hist = extract_color_histogram(image)\n",
        "    rawImages.append(pixels)\n",
        "    features.append(hist)\n",
        "    labels.append(label)\n",
        "print(f\"Total Images : {len(rawImages)}\")\n",
        "print(f\"Total Features : {len(features)}\")"
      ]
    },
    {
      "cell_type": "code",
      "execution_count": null,
      "metadata": {
        "colab": {
          "base_uri": "https://localhost:8080/"
        },
        "id": "-3nMie7Ndvde",
        "outputId": "76700917-74fa-49ab-c60e-9540bc35dc41"
      },
      "outputs": [
        {
          "name": "stdout",
          "output_type": "stream",
          "text": [
            "pixels matrix: 109.03MB\n",
            "features matrix: 3.31MB\n"
          ]
        }
      ],
      "source": [
        "rawImages = np.array(rawImages)\n",
        "features = np.array(features)\n",
        "labels = np.array(labels)\n",
        "print(\"pixels matrix: {:.2f}MB\".format(\n",
        "\trawImages.nbytes / (1024 * 1000.0)))\n",
        "print(\"features matrix: {:.2f}MB\".format(\n",
        "\tfeatures.nbytes / (1024 * 1000.0)))"
      ]
    },
    {
      "cell_type": "markdown",
      "metadata": {
        "id": "wkK9p7E1vAE_"
      },
      "source": [
        "## **Data Test Train Split for KNN**"
      ]
    },
    {
      "cell_type": "code",
      "execution_count": null,
      "metadata": {
        "id": "uMuZvibId0BE"
      },
      "outputs": [],
      "source": [
        "(trainR, testR, trainRL, testRL) = train_test_split(\n",
        "\trawImages, labels, test_size=0.25, random_state=42)\n",
        "(trainH, testH, trainHL, testHL) = train_test_split(\n",
        "\tfeatures, labels, test_size=0.25, random_state=42)"
      ]
    },
    {
      "cell_type": "markdown",
      "metadata": {
        "id": "WSocREk7vIJm"
      },
      "source": [
        "## **Fitting and Training Model with Raw Images**"
      ]
    },
    {
      "cell_type": "code",
      "execution_count": null,
      "metadata": {
        "colab": {
          "base_uri": "https://localhost:8080/"
        },
        "id": "11yH7eLboQJU",
        "outputId": "a48406f8-2dec-4e26-dc6f-f41fe5844b82"
      },
      "outputs": [
        {
          "name": "stdout",
          "output_type": "stream",
          "text": [
            "evaluating raw pixel accuracy...\n",
            "                   precision    recall  f1-score   support\n",
            "\n",
            "Angular Leaf Spot       0.48      0.73      0.58       102\n",
            " Bacterial Blight       0.94      0.95      0.95        64\n",
            "        Bean Rust       0.59      0.37      0.46       103\n",
            "     Downy Mildew       0.34      0.93      0.50        28\n",
            "          Healthy       0.91      0.42      0.57       117\n",
            "\n",
            "         accuracy                           0.60       414\n",
            "        macro avg       0.65      0.68      0.61       414\n",
            "     weighted avg       0.69      0.60      0.60       414\n",
            "\n",
            "raw pixel accuracy: 59.90%\n"
          ]
        }
      ],
      "source": [
        "print(\"evaluating raw pixel accuracy...\")\n",
        "model = KNeighborsClassifier(n_neighbors=1,\n",
        "\tn_jobs=-1)\n",
        "model.fit(trainR, trainRL)\n",
        "acc = model.score(testR, testRL)\n",
        "print(classification_report(testRL,model.predict(testR)))\n",
        "print(\"raw pixel accuracy: {:.2f}%\".format(acc * 100))"
      ]
    },
    {
      "cell_type": "markdown",
      "metadata": {
        "id": "hdv90LRtvTWu"
      },
      "source": [
        "## **Fitting and Training Model with Images Features Histogram**"
      ]
    },
    {
      "cell_type": "code",
      "execution_count": null,
      "metadata": {
        "colab": {
          "base_uri": "https://localhost:8080/"
        },
        "id": "kXnnPLxqpYQc",
        "outputId": "49e04892-df9f-42c1-be39-2222cec248fa"
      },
      "outputs": [
        {
          "name": "stdout",
          "output_type": "stream",
          "text": [
            "evaluating histogram accuracy...\n",
            "                   precision    recall  f1-score   support\n",
            "\n",
            "Angular Leaf Spot       0.72      0.60      0.65       102\n",
            " Bacterial Blight       0.97      0.95      0.96        64\n",
            "        Bean Rust       0.62      0.74      0.68       103\n",
            "     Downy Mildew       0.79      0.82      0.81        28\n",
            "          Healthy       0.77      0.76      0.77       117\n",
            "\n",
            "         accuracy                           0.75       414\n",
            "        macro avg       0.78      0.77      0.77       414\n",
            "     weighted avg       0.75      0.75      0.75       414\n",
            "\n",
            "histogram accuracy: 74.88%\n"
          ]
        }
      ],
      "source": [
        "print(\"evaluating histogram accuracy...\")\n",
        "model = KNeighborsClassifier(n_neighbors=1,\n",
        "\tn_jobs=-1)\n",
        "model.fit(trainH, trainHL)\n",
        "acc = model.score(testH, testHL)\n",
        "print(classification_report(testHL,model.predict(testH)))\n",
        "print(\"histogram accuracy: {:.2f}%\".format(acc * 100))"
      ]
    }
  ],
  "metadata": {
    "colab": {
      "authorship_tag": "ABX9TyNJFocKKeq+hlJRgOE3mgOH",
      "include_colab_link": true,
      "provenance": [],
      "toc_visible": true
    },
    "kernelspec": {
      "display_name": "Python 3",
      "name": "python3"
    },
    "language_info": {
      "name": "python"
    }
  },
  "nbformat": 4,
  "nbformat_minor": 0
}
